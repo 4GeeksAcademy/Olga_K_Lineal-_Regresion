{
    "cells": [
        {
            "cell_type": "markdown",
            "metadata": {},
            "source": [
                "# Explore here"
            ]
        },
        {
            "cell_type": "code",
            "execution_count": null,
            "metadata": {},
            "outputs": [],
            "source": [
                "# Your code here\n",
                "import pandas as pd\n",
                "import matplotlib.pyplot as plt \n",
                "import seaborn as sns\n",
                "import pickle\n",
                "from pickle import dump"
            ]
        },
        {
            "cell_type": "code",
            "execution_count": null,
            "metadata": {},
            "outputs": [],
            "source": [
                "# Your code here\n",
                "medical_in = pd.read_csv('/workspace/machine-learning-streamlit/data/raw/medical_insurance_cost.csv')"
            ]
        },
        {
            "cell_type": "code",
            "execution_count": null,
            "metadata": {},
            "outputs": [],
            "source": [
                "medical_in.head()"
            ]
        },
        {
            "cell_type": "code",
            "execution_count": null,
            "metadata": {},
            "outputs": [],
            "source": [
                "medical_in.info()"
            ]
        },
        {
            "cell_type": "code",
            "execution_count": null,
            "metadata": {},
            "outputs": [],
            "source": [
                "#Categorical\n",
                "fig, axis = plt.subplots(1, 3, figsize = (18, 7))\n",
                "\n",
                "sns.histplot(ax = axis[0], data = medical_in, x = \"sex\", color='navy')\n",
                "sns.histplot(ax = axis[1], data = medical_in, x = \"smoker\", color='green').set_ylabel(None)\n",
                "sns.histplot(ax = axis[2], data = medical_in, y = \"region\", color='red')\n",
                "\n",
                "plt.show()"
            ]
        },
        {
            "cell_type": "code",
            "execution_count": null,
            "metadata": {},
            "outputs": [],
            "source": [
                "#Numeric\n",
                "fig, axis = plt.subplots(2, 3, figsize = (15, 7))\n",
                "\n",
                "sns.histplot(ax = axis[0, 0], data = medical_in, x = \"age\", color='navy').set_xlabel(None)\n",
                "sns.boxplot(ax = axis[1, 0], data = medical_in, x = \"age\", color='navy')\n",
                "sns.histplot(ax = axis[0, 1], data = medical_in, x = \"children\", color='green').set_xlabel(None)\n",
                "axis[0, 1].set_ylabel(None)\n",
                "sns.boxplot(ax = axis[1, 1], data = medical_in, x = \"children\", color='green')\n",
                "sns.histplot(ax = axis[0, 2], data = medical_in, x = \"charges\", color='red').set_xlabel(None)\n",
                "axis[0, 2].set_ylabel(None)\n",
                "sns.boxplot(ax = axis[1, 2], data = medical_in, x = \"charges\", color='red')\n",
                "\n",
                "plt.tight_layout()\n",
                "plt.show()"
            ]
        },
        {
            "cell_type": "code",
            "execution_count": null,
            "metadata": {},
            "outputs": [],
            "source": [
                "medical_in.columns"
            ]
        },
        {
            "cell_type": "code",
            "execution_count": null,
            "metadata": {},
            "outputs": [],
            "source": [
                "#Numeric-numeric\n",
                "fig, axis = plt.subplots(2, 4, figsize = (13, 6))\n",
                "\n",
                "sns.regplot(ax = axis[0, 0], data = medical_in, x = \"age\", y = \"charges\", color='green')\n",
                "sns.heatmap(medical_in[[\"age\", \"charges\"]].corr(), annot = True, fmt = \".2f\", ax = axis[1, 0], cbar = False)\n",
                "\n",
                "sns.regplot(ax = axis[0, 1], data = medical_in, x = \"bmi\", y = \"charges\", color='green').set_ylabel(None)\n",
                "sns.heatmap(medical_in[[\"bmi\", \"charges\"]].corr(), annot = True, fmt = \".2f\", ax = axis[1, 1], cbar = False)\n",
                "\n",
                "sns.regplot(ax = axis[0, 2], data = medical_in, x = \"age\", y = \"bmi\", color='red')\n",
                "sns.heatmap(medical_in[[\"age\", \"bmi\"]].corr(), annot = True, fmt = \".2f\", ax = axis[1, 2], cbar = False)\n",
                "\n",
                "sns.regplot(ax = axis[0, 3], data = medical_in, x = \"children\", y = \"charges\", color='navy')\n",
                "sns.heatmap(medical_in[[\"children\", \"charges\"]].corr(), annot = True, fmt = \".2f\", ax = axis[1, 3], cbar = False)\n",
                "\n",
                "plt.tight_layout()\n",
                "plt.show()"
            ]
        },
        {
            "cell_type": "code",
            "execution_count": null,
            "metadata": {},
            "outputs": [],
            "source": [
                "#Categorical-categorical\n",
                "fig, axis = plt.subplots(1, 3, figsize = (12, 6))\n",
                "\n",
                "sns.countplot(ax = axis[0], data = medical_in, x = \"smoker\", hue = \"sex\")\n",
                "sns.countplot(ax = axis[1], data = medical_in, x = \"region\", hue = \"smoker\").set_ylabel(None)\n",
                "sns.countplot(ax = axis[2], data = medical_in, x = \"region\", hue = \"sex\").set_ylabel(None)\n",
                "\n",
                "\n",
                "plt.tight_layout()\n",
                "plt.show()"
            ]
        },
        {
            "cell_type": "code",
            "execution_count": null,
            "metadata": {},
            "outputs": [],
            "source": [
                "fig, axis = plt.subplots(figsize = (14, 7), ncols = 3)\n",
                "\n",
                "sns.barplot(ax = axis[0], data = medical_in, x = \"sex\", y = \"charges\", hue = \"smoker\")\n",
                "sns.barplot(ax = axis[1], data = medical_in, x = \"children\", y = \"charges\", hue = \"smoker\")\n",
                "sns.barplot(ax = axis[2], data = medical_in, y = \"charges\", x = \"smoker\", hue = \"region\")\n",
                "\n",
                "plt.tight_layout()\n",
                "\n",
                "plt.show()"
            ]
        },
        {
            "cell_type": "code",
            "execution_count": null,
            "metadata": {},
            "outputs": [],
            "source": [
                "#factorize\n",
                "medical_in['sex_n'] = pd.factorize(medical_in['sex'])[0]\n",
                "medical_in['smoker_n'] = pd.factorize(medical_in['smoker'])[0]\n",
                "medical_in['region_n'] = pd.factorize(medical_in['region'])[0]\n",
                "medical_in.head()"
            ]
        },
        {
            "cell_type": "code",
            "execution_count": null,
            "metadata": {},
            "outputs": [],
            "source": [
                "smoker_described = medical_in.set_index('smoker_n')['smoker'].to_dict()\n",
                "region_described = medical_in.set_index('region_n')['region'].to_dict()\n",
                "sex_described = medical_in.set_index('sex_n')['sex'].to_dict()\n",
                "region_described"
            ]
        },
        {
            "cell_type": "code",
            "execution_count": null,
            "metadata": {},
            "outputs": [],
            "source": [
                "\n",
                "#correlacion\n",
                "\n",
                "fig, axis = plt.subplots(figsize = (10, 6))\n",
                "\n",
                "sns.heatmap(medical_in[['age','sex_n', 'smoker_n', 'region_n', 'charges', 'children', 'bmi']].corr(), annot = True, fmt = \".2f\",linecolor='white',linewidths=1)\n",
                "\n",
                "plt.tight_layout()\n",
                "\n",
                "plt.show()\n",
                "\n"
            ]
        },
        {
            "cell_type": "code",
            "execution_count": null,
            "metadata": {},
            "outputs": [],
            "source": [
                "fig, axis = plt.subplots(2, 1, figsize = (7, 7))\n",
                "sns.regplot(data = medical_in, x = \"smoker_n\", y = \"charges\", ax = axis[0])\n",
                "sns.heatmap(medical_in[[\"charges\", \"smoker_n\"]].corr(), annot = True, fmt = \".2f\", ax = axis[1], cbar = False)"
            ]
        },
        {
            "cell_type": "code",
            "execution_count": null,
            "metadata": {},
            "outputs": [],
            "source": [
                "medical_in.columns"
            ]
        },
        {
            "cell_type": "code",
            "execution_count": null,
            "metadata": {},
            "outputs": [],
            "source": [
                "fig, axis = plt.subplots(2, 4, figsize = (15, 10))\n",
                "\n",
                "sns.boxplot(ax = axis[0, 0], data = medical_in, y = \"age\")\n",
                "sns.boxplot(ax = axis[0, 1], data = medical_in, y = \"sex_n\")\n",
                "sns.boxplot(ax = axis[0, 2], data = medical_in, y = \"bmi\")\n",
                "sns.boxplot(ax = axis[0, 3], data = medical_in, y = \"children\")\n",
                "sns.boxplot(ax = axis[1, 0], data = medical_in, y = \"smoker_n\")\n",
                "sns.boxplot(ax = axis[1, 1], data = medical_in, y = \"region_n\")\n",
                "sns.boxplot(ax = axis[1, 2], data = medical_in, y = \"charges\")"
            ]
        },
        {
            "cell_type": "code",
            "execution_count": null,
            "metadata": {},
            "outputs": [],
            "source": [
                "medical_in.isnull().sum()"
            ]
        },
        {
            "cell_type": "code",
            "execution_count": null,
            "metadata": {},
            "outputs": [],
            "source": [
                "medical_in.head()"
            ]
        },
        {
            "cell_type": "code",
            "execution_count": null,
            "metadata": {},
            "outputs": [],
            "source": [
                "from sklearn.preprocessing import StandardScaler\n",
                "from sklearn.feature_selection import SelectKBest, f_regression\n",
                "from sklearn.linear_model import LinearRegression\n",
                "from sklearn.model_selection import train_test_split\n",
                "\n",
                "num_variables = ['age','sex_n', 'smoker_n', 'children', 'bmi', 'region_n']\n",
                "\n",
                "\n",
                "# Dividimos el conjuno de datos en entrenamiento (train) y pruebas (test)\n",
                "X = medical_in.drop('charges', axis = 1)[num_variables]\n",
                "y = medical_in['charges']\n",
                "\n",
                "\n",
                "X_train, X_test, y_train, y_test = train_test_split(X, y, test_size = 0.2, random_state = 12)\n",
                "\n",
                "selection_model = SelectKBest(f_regression, k = 6)\n",
                "selection_model.fit(X_train, y_train)\n",
                "\n",
                "selected_columns = X_train.columns[selection_model.get_support()]\n",
                "X_train_sel = pd.DataFrame(selection_model.transform(X_train), columns = selected_columns)\n",
                "X_test_sel = pd.DataFrame(selection_model.transform(X_test), columns = selected_columns)\n",
                "X_train_sel.head()"
            ]
        },
        {
            "cell_type": "code",
            "execution_count": null,
            "metadata": {},
            "outputs": [],
            "source": [
                "X_train_sel[\"charges\"] = y_train.values\n",
                "X_test_sel[\"charges\"] = y_test.values\n",
                "\n",
                "X_train_sel.to_csv('/workspace/machine-learning-streamlit/data/processed/clean_train.csv', index = False)\n",
                "X_test_sel.to_csv('/workspace/machine-learning-streamlit/data/processed/clean_test.csv', index = False)"
            ]
        },
        {
            "cell_type": "code",
            "execution_count": null,
            "metadata": {},
            "outputs": [],
            "source": [
                "train_data = pd.read_csv(\"../data/processed/clean_train.csv\")\n",
                "test_data = pd.read_csv(\"../data/processed/clean_test.csv\")\n",
                "\n",
                "train_data.head()"
            ]
        },
        {
            "cell_type": "code",
            "execution_count": null,
            "metadata": {},
            "outputs": [],
            "source": [
                "from sklearn.preprocessing import MinMaxScaler\n",
                "#scaler = MinMaxScaler()\n",
                "\n",
                "scaler = StandardScaler()\n",
                "\n",
                "# Ajusta el objeto a los datos de entrenamiento\n",
                "scaler.fit(X_train)\n",
                "\n",
                "# Normaliza los datos de entrenamiento y prueba\n",
                "X_train_norm = scaler.transform(X_train)\n",
                "X_test_norm = scaler.transform(X_test)"
            ]
        },
        {
            "cell_type": "code",
            "execution_count": null,
            "metadata": {},
            "outputs": [],
            "source": [
                "X_train = train_data.drop([\"charges\"], axis = 1)\n",
                "y_train = train_data[\"charges\"]\n",
                "X_test = test_data.drop([\"charges\"], axis = 1)\n",
                "y_test = test_data[\"charges\"]\n",
                "\n",
                "X_train_sel = pd.DataFrame(selection_model.transform(X_train), columns = selected_columns)\n",
                "X_test_sel = pd.DataFrame(selection_model.transform(X_test), columns = selected_columns)"
            ]
        },
        {
            "cell_type": "code",
            "execution_count": null,
            "metadata": {},
            "outputs": [],
            "source": [
                "model = LinearRegression()\n",
                "model.fit(X_train, y_train)"
            ]
        },
        {
            "cell_type": "code",
            "execution_count": null,
            "metadata": {},
            "outputs": [],
            "source": [
                "print(f\"Intercep (a): {model.intercept_}\")\n",
                "print(f\"Coefficients (b1, b2): {model.coef_}\")"
            ]
        },
        {
            "cell_type": "code",
            "execution_count": null,
            "metadata": {},
            "outputs": [],
            "source": [
                "y_pred = model.predict(X_test)\n",
                "y_pred"
            ]
        },
        {
            "cell_type": "code",
            "execution_count": null,
            "metadata": {},
            "outputs": [],
            "source": [
                "from sklearn.metrics import mean_squared_error, r2_score\n",
                "import math\n",
                "\n",
                "mse_sqrt = math.sqrt(mean_squared_error(y_test, y_pred))\n",
                "\n",
                "# Imprime el resultado\n",
                "print(f\"Raíz cuadrada del MSE: {mse_sqrt}\")\n",
                "print(f\"R2 Score: {r2_score(y_test, y_pred)}\")"
            ]
        },
        {
            "cell_type": "code",
            "execution_count": null,
            "metadata": {},
            "outputs": [],
            "source": [
                "y_test"
            ]
        },
        {
            "cell_type": "code",
            "execution_count": null,
            "metadata": {},
            "outputs": [],
            "source": [
                "dump(model, open(\"/workspace/machine-learning-streamlit/models/LinearRegression_.sav\", \"wb\"))"
            ]
        },
        {
            "cell_type": "code",
            "execution_count": null,
            "metadata": {},
            "outputs": [],
            "source": [
                "with open('/workspace/machine-learning-streamlit/models/scaler.pkl', 'wb') as scaler_file:\n",
                "    pickle.dump(scaler, scaler_file)"
            ]
        }
    ],
    "metadata": {
        "kernelspec": {
            "display_name": "Python 3.8.13 64-bit ('3.8.13')",
            "language": "python",
            "name": "python3"
        },
        "language_info": {
            "codemirror_mode": {
                "name": "ipython",
                "version": 3
            },
            "file_extension": ".py",
            "mimetype": "text/x-python",
            "name": "python",
            "nbconvert_exporter": "python",
            "pygments_lexer": "ipython3",
            "version": "3.8.13"
        },
        "orig_nbformat": 4,
        "vscode": {
            "interpreter": {
                "hash": "110cc1dee26208153f2972f08a2ad52b6a56238dc66d48e87fb757ef2996db56"
            }
        }
    },
    "nbformat": 4,
    "nbformat_minor": 2
}
